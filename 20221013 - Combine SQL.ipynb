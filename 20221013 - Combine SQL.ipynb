{
 "cells": [
  {
   "cell_type": "code",
   "execution_count": 1,
   "metadata": {},
   "outputs": [
    {
     "name": "stdout",
     "output_type": "stream",
     "text": [
      "[]\n"
     ]
    }
   ],
   "source": [
    "import sqlite3\n",
    "import os\n",
    "\n",
    "\n",
    "def merge_databases(db1, db2):\n",
    "    con3 = sqlite3.connect(db1)\n",
    "\n",
    "    con3.execute(\"ATTACH '\" + db2 +  \"' as dba\")\n",
    "\n",
    "    con3.execute(\"BEGIN\")\n",
    "    for row in con3.execute(\"SELECT * FROM dba.sqlite_master WHERE type='table'\"):\n",
    "        combine = \"INSERT OR IGNORE INTO \"+ row[1] + \" SELECT * FROM dba.\" + row[1]\n",
    "        print(combine)\n",
    "        con3.execute(combine)\n",
    "    con3.commit()\n",
    "    con3.execute(\"detach database dba\")\n",
    "\n",
    "\n",
    "def read_files(directory):\n",
    "    fname = []\n",
    "    for root,d_names,f_names in os.walk(directory):\n",
    "        for f in f_names:\n",
    "            c_name = os.path.join(root, f)\n",
    "            filename, file_extension = os.path.splitext(c_name)\n",
    "            if (file_extension == '.db'):\n",
    "                fname.append(c_name)\n",
    "\n",
    "    return fname\n",
    "\n",
    "def batch_merge(directory):\n",
    "    db_files = read_files(directory)\n",
    "    print(db_files)\n",
    "    for db_file in db_files[1:]:\n",
    "        merge_databases(db_files[0], db_file)\n",
    "\n",
    "if __name__ == '__main__':\n",
    "    batch_merge('/directory/to/database/files')"
   ]
  },
  {
   "cell_type": "code",
   "execution_count": 3,
   "metadata": {},
   "outputs": [],
   "source": [
    "# This script can be used to combine P6 database\n",
    "batch_merge('path_to_source_folder')"
   ]
  },
  {
   "cell_type": "code",
   "execution_count": null,
   "metadata": {},
   "outputs": [],
   "source": []
  }
 ],
 "metadata": {
  "kernelspec": {
   "display_name": "Python 3.10.5 64-bit",
   "language": "python",
   "name": "python3"
  },
  "language_info": {
   "codemirror_mode": {
    "name": "ipython",
    "version": 3
   },
   "file_extension": ".py",
   "mimetype": "text/x-python",
   "name": "python",
   "nbconvert_exporter": "python",
   "pygments_lexer": "ipython3",
   "version": "3.10.5"
  },
  "orig_nbformat": 4,
  "vscode": {
   "interpreter": {
    "hash": "cbf50b0f777fdc298c0bcb9182d679d674d4d5376ee109d91f90b41e3e3458cc"
   }
  }
 },
 "nbformat": 4,
 "nbformat_minor": 2
}
